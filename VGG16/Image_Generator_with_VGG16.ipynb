{
  "nbformat": 4,
  "nbformat_minor": 0,
  "metadata": {
    "colab": {
      "name": "Image Generator with VGG16.ipynb",
      "provenance": []
    },
    "kernelspec": {
      "name": "python3",
      "display_name": "Python 3"
    },
    "language_info": {
      "name": "python"
    },
    "accelerator": "GPU"
  },
  "cells": [
    {
      "cell_type": "code",
      "execution_count": 4,
      "metadata": {
        "colab": {
          "base_uri": "https://localhost:8080/"
        },
        "id": "WuRSYJ-LYA_i",
        "outputId": "103e8040-9976-4be9-f70e-ab13ea32bc15"
      },
      "outputs": [
        {
          "output_type": "stream",
          "name": "stdout",
          "text": [
            "Drive already mounted at /content/drive; to attempt to forcibly remount, call drive.mount(\"/content/drive\", force_remount=True).\n"
          ]
        }
      ],
      "source": [
        "from google.colab import drive\n",
        "drive.mount('/content/drive')"
      ]
    },
    {
      "cell_type": "code",
      "source": [
        "#import packages\n",
        "import tensorflow as tf\n",
        "from keras.preprocessing.image import ImageDataGenerator\n",
        "\n",
        "# To retrieve files/pathnames matching a specified pattern\n",
        "import glob\n",
        "\n",
        "import numpy as np\n",
        "import pandas as pd\n",
        "import os\n",
        "\n",
        "import matplotlib.pyplot as plt"
      ],
      "metadata": {
        "id": "GgVitWfdYJXd"
      },
      "execution_count": 5,
      "outputs": []
    },
    {
      "cell_type": "code",
      "source": [
        "TRAIN_DIR = '/content/drive/MyDrive/ASL_Dataset/Train'\n",
        "TEST_DIR = '/content/drive/MyDrive/ASL_Dataset/Test'"
      ],
      "metadata": {
        "id": "S58zpfL4YJPA"
      },
      "execution_count": 6,
      "outputs": []
    },
    {
      "cell_type": "code",
      "source": [
        "# Load all the images under each class (subdirectory)\n",
        "def load_images(base_dir, directories_as_labels=True, files='**/*.jpg'):\n",
        "  filenames = glob.glob(os.path.join(base_dir, files))\n",
        "\n",
        "  # Load all the subdirectories as classes\n",
        "  classes = (os.path.basename(os.path.dirname(name)) for name in filenames)\n",
        "  df = pd.DataFrame(list(zip(filenames, classes)), columns=['path', 'label'])\n",
        "\n",
        "  return df\n",
        "\n",
        "train_df = load_images(TRAIN_DIR)\n",
        "test_df = load_images(TEST_DIR)"
      ],
      "metadata": {
        "id": "wzxcyTP7YJGx"
      },
      "execution_count": 7,
      "outputs": []
    },
    {
      "cell_type": "code",
      "source": [
        "train_df"
      ],
      "metadata": {
        "colab": {
          "base_uri": "https://localhost:8080/",
          "height": 424
        },
        "id": "bXJ3t5nBbs6G",
        "outputId": "30a47ad7-87ed-44a1-f041-67e4cd4ad7a2"
      },
      "execution_count": 8,
      "outputs": [
        {
          "output_type": "execute_result",
          "data": {
            "text/plain": [
              "                                                     path label\n",
              "0       /content/drive/MyDrive/ASL_Dataset/Train/U/U50...     U\n",
              "1       /content/drive/MyDrive/ASL_Dataset/Train/U/U60...     U\n",
              "2       /content/drive/MyDrive/ASL_Dataset/Train/U/U28...     U\n",
              "3       /content/drive/MyDrive/ASL_Dataset/Train/U/U28...     U\n",
              "4       /content/drive/MyDrive/ASL_Dataset/Train/U/U44...     U\n",
              "...                                                   ...   ...\n",
              "165824  /content/drive/MyDrive/ASL_Dataset/Train/Y/191...     Y\n",
              "165825  /content/drive/MyDrive/ASL_Dataset/Train/Y/203...     Y\n",
              "165826  /content/drive/MyDrive/ASL_Dataset/Train/Y/169...     Y\n",
              "165827  /content/drive/MyDrive/ASL_Dataset/Train/Y/239...     Y\n",
              "165828  /content/drive/MyDrive/ASL_Dataset/Train/Y/216...     Y\n",
              "\n",
              "[165829 rows x 2 columns]"
            ],
            "text/html": [
              "\n",
              "  <div id=\"df-7437a8cc-df84-468f-8812-dd79a45bb4a7\">\n",
              "    <div class=\"colab-df-container\">\n",
              "      <div>\n",
              "<style scoped>\n",
              "    .dataframe tbody tr th:only-of-type {\n",
              "        vertical-align: middle;\n",
              "    }\n",
              "\n",
              "    .dataframe tbody tr th {\n",
              "        vertical-align: top;\n",
              "    }\n",
              "\n",
              "    .dataframe thead th {\n",
              "        text-align: right;\n",
              "    }\n",
              "</style>\n",
              "<table border=\"1\" class=\"dataframe\">\n",
              "  <thead>\n",
              "    <tr style=\"text-align: right;\">\n",
              "      <th></th>\n",
              "      <th>path</th>\n",
              "      <th>label</th>\n",
              "    </tr>\n",
              "  </thead>\n",
              "  <tbody>\n",
              "    <tr>\n",
              "      <th>0</th>\n",
              "      <td>/content/drive/MyDrive/ASL_Dataset/Train/U/U50...</td>\n",
              "      <td>U</td>\n",
              "    </tr>\n",
              "    <tr>\n",
              "      <th>1</th>\n",
              "      <td>/content/drive/MyDrive/ASL_Dataset/Train/U/U60...</td>\n",
              "      <td>U</td>\n",
              "    </tr>\n",
              "    <tr>\n",
              "      <th>2</th>\n",
              "      <td>/content/drive/MyDrive/ASL_Dataset/Train/U/U28...</td>\n",
              "      <td>U</td>\n",
              "    </tr>\n",
              "    <tr>\n",
              "      <th>3</th>\n",
              "      <td>/content/drive/MyDrive/ASL_Dataset/Train/U/U28...</td>\n",
              "      <td>U</td>\n",
              "    </tr>\n",
              "    <tr>\n",
              "      <th>4</th>\n",
              "      <td>/content/drive/MyDrive/ASL_Dataset/Train/U/U44...</td>\n",
              "      <td>U</td>\n",
              "    </tr>\n",
              "    <tr>\n",
              "      <th>...</th>\n",
              "      <td>...</td>\n",
              "      <td>...</td>\n",
              "    </tr>\n",
              "    <tr>\n",
              "      <th>165824</th>\n",
              "      <td>/content/drive/MyDrive/ASL_Dataset/Train/Y/191...</td>\n",
              "      <td>Y</td>\n",
              "    </tr>\n",
              "    <tr>\n",
              "      <th>165825</th>\n",
              "      <td>/content/drive/MyDrive/ASL_Dataset/Train/Y/203...</td>\n",
              "      <td>Y</td>\n",
              "    </tr>\n",
              "    <tr>\n",
              "      <th>165826</th>\n",
              "      <td>/content/drive/MyDrive/ASL_Dataset/Train/Y/169...</td>\n",
              "      <td>Y</td>\n",
              "    </tr>\n",
              "    <tr>\n",
              "      <th>165827</th>\n",
              "      <td>/content/drive/MyDrive/ASL_Dataset/Train/Y/239...</td>\n",
              "      <td>Y</td>\n",
              "    </tr>\n",
              "    <tr>\n",
              "      <th>165828</th>\n",
              "      <td>/content/drive/MyDrive/ASL_Dataset/Train/Y/216...</td>\n",
              "      <td>Y</td>\n",
              "    </tr>\n",
              "  </tbody>\n",
              "</table>\n",
              "<p>165829 rows × 2 columns</p>\n",
              "</div>\n",
              "      <button class=\"colab-df-convert\" onclick=\"convertToInteractive('df-7437a8cc-df84-468f-8812-dd79a45bb4a7')\"\n",
              "              title=\"Convert this dataframe to an interactive table.\"\n",
              "              style=\"display:none;\">\n",
              "        \n",
              "  <svg xmlns=\"http://www.w3.org/2000/svg\" height=\"24px\"viewBox=\"0 0 24 24\"\n",
              "       width=\"24px\">\n",
              "    <path d=\"M0 0h24v24H0V0z\" fill=\"none\"/>\n",
              "    <path d=\"M18.56 5.44l.94 2.06.94-2.06 2.06-.94-2.06-.94-.94-2.06-.94 2.06-2.06.94zm-11 1L8.5 8.5l.94-2.06 2.06-.94-2.06-.94L8.5 2.5l-.94 2.06-2.06.94zm10 10l.94 2.06.94-2.06 2.06-.94-2.06-.94-.94-2.06-.94 2.06-2.06.94z\"/><path d=\"M17.41 7.96l-1.37-1.37c-.4-.4-.92-.59-1.43-.59-.52 0-1.04.2-1.43.59L10.3 9.45l-7.72 7.72c-.78.78-.78 2.05 0 2.83L4 21.41c.39.39.9.59 1.41.59.51 0 1.02-.2 1.41-.59l7.78-7.78 2.81-2.81c.8-.78.8-2.07 0-2.86zM5.41 20L4 18.59l7.72-7.72 1.47 1.35L5.41 20z\"/>\n",
              "  </svg>\n",
              "      </button>\n",
              "      \n",
              "  <style>\n",
              "    .colab-df-container {\n",
              "      display:flex;\n",
              "      flex-wrap:wrap;\n",
              "      gap: 12px;\n",
              "    }\n",
              "\n",
              "    .colab-df-convert {\n",
              "      background-color: #E8F0FE;\n",
              "      border: none;\n",
              "      border-radius: 50%;\n",
              "      cursor: pointer;\n",
              "      display: none;\n",
              "      fill: #1967D2;\n",
              "      height: 32px;\n",
              "      padding: 0 0 0 0;\n",
              "      width: 32px;\n",
              "    }\n",
              "\n",
              "    .colab-df-convert:hover {\n",
              "      background-color: #E2EBFA;\n",
              "      box-shadow: 0px 1px 2px rgba(60, 64, 67, 0.3), 0px 1px 3px 1px rgba(60, 64, 67, 0.15);\n",
              "      fill: #174EA6;\n",
              "    }\n",
              "\n",
              "    [theme=dark] .colab-df-convert {\n",
              "      background-color: #3B4455;\n",
              "      fill: #D2E3FC;\n",
              "    }\n",
              "\n",
              "    [theme=dark] .colab-df-convert:hover {\n",
              "      background-color: #434B5C;\n",
              "      box-shadow: 0px 1px 3px 1px rgba(0, 0, 0, 0.15);\n",
              "      filter: drop-shadow(0px 1px 2px rgba(0, 0, 0, 0.3));\n",
              "      fill: #FFFFFF;\n",
              "    }\n",
              "  </style>\n",
              "\n",
              "      <script>\n",
              "        const buttonEl =\n",
              "          document.querySelector('#df-7437a8cc-df84-468f-8812-dd79a45bb4a7 button.colab-df-convert');\n",
              "        buttonEl.style.display =\n",
              "          google.colab.kernel.accessAllowed ? 'block' : 'none';\n",
              "\n",
              "        async function convertToInteractive(key) {\n",
              "          const element = document.querySelector('#df-7437a8cc-df84-468f-8812-dd79a45bb4a7');\n",
              "          const dataTable =\n",
              "            await google.colab.kernel.invokeFunction('convertToInteractive',\n",
              "                                                     [key], {});\n",
              "          if (!dataTable) return;\n",
              "\n",
              "          const docLinkHtml = 'Like what you see? Visit the ' +\n",
              "            '<a target=\"_blank\" href=https://colab.research.google.com/notebooks/data_table.ipynb>data table notebook</a>'\n",
              "            + ' to learn more about interactive tables.';\n",
              "          element.innerHTML = '';\n",
              "          dataTable['output_type'] = 'display_data';\n",
              "          await google.colab.output.renderOutput(dataTable, element);\n",
              "          const docLink = document.createElement('div');\n",
              "          docLink.innerHTML = docLinkHtml;\n",
              "          element.appendChild(docLink);\n",
              "        }\n",
              "      </script>\n",
              "    </div>\n",
              "  </div>\n",
              "  "
            ]
          },
          "metadata": {},
          "execution_count": 8
        }
      ]
    },
    {
      "cell_type": "code",
      "source": [
        "batch_size = 16\n",
        "IMAGE_SIZE = [200, 200]\n",
        "num_class = len(train_df['label'].unique())"
      ],
      "metadata": {
        "id": "DELGVJEecGfx"
      },
      "execution_count": 9,
      "outputs": []
    },
    {
      "cell_type": "code",
      "source": [
        "train_path = '/content/drive/MyDrive/ASL_Dataset/Train'\n",
        "valid_path = '/content/drive/MyDrive/ASL_Dataset/Test'"
      ],
      "metadata": {
        "id": "aVdPWP0FcGTT"
      },
      "execution_count": 10,
      "outputs": []
    },
    {
      "cell_type": "code",
      "source": [
        "import glob"
      ],
      "metadata": {
        "id": "MoOccl55eFuW"
      },
      "execution_count": 11,
      "outputs": []
    },
    {
      "cell_type": "code",
      "source": [
        "image_files = glob.glob(train_path + '/*/*.jpg')\n",
        "valid_image_files = glob.glob(valid_path + '/*/*.jpg')"
      ],
      "metadata": {
        "id": "GfSdKEY9bs0l"
      },
      "execution_count": 12,
      "outputs": []
    },
    {
      "cell_type": "code",
      "source": [
        "folders = glob.glob(train_path + '/*')\n",
        "folders"
      ],
      "metadata": {
        "colab": {
          "base_uri": "https://localhost:8080/"
        },
        "id": "EamCCAE4bsuO",
        "outputId": "e54cc7c2-d765-4cac-ce91-39bcf14f82ef"
      },
      "execution_count": 13,
      "outputs": [
        {
          "output_type": "execute_result",
          "data": {
            "text/plain": [
              "['/content/drive/MyDrive/ASL_Dataset/Train/U',\n",
              " '/content/drive/MyDrive/ASL_Dataset/Train/R',\n",
              " '/content/drive/MyDrive/ASL_Dataset/Train/N',\n",
              " '/content/drive/MyDrive/ASL_Dataset/Train/I',\n",
              " '/content/drive/MyDrive/ASL_Dataset/Train/Z',\n",
              " '/content/drive/MyDrive/ASL_Dataset/Train/Space',\n",
              " '/content/drive/MyDrive/ASL_Dataset/Train/T',\n",
              " '/content/drive/MyDrive/ASL_Dataset/Train/F',\n",
              " '/content/drive/MyDrive/ASL_Dataset/Train/Nothing',\n",
              " '/content/drive/MyDrive/ASL_Dataset/Train/H',\n",
              " '/content/drive/MyDrive/ASL_Dataset/Train/S',\n",
              " '/content/drive/MyDrive/ASL_Dataset/Train/G',\n",
              " '/content/drive/MyDrive/ASL_Dataset/Train/A',\n",
              " '/content/drive/MyDrive/ASL_Dataset/Train/O',\n",
              " '/content/drive/MyDrive/ASL_Dataset/Train/E',\n",
              " '/content/drive/MyDrive/ASL_Dataset/Train/K',\n",
              " '/content/drive/MyDrive/ASL_Dataset/Train/M',\n",
              " '/content/drive/MyDrive/ASL_Dataset/Train/C',\n",
              " '/content/drive/MyDrive/ASL_Dataset/Train/D',\n",
              " '/content/drive/MyDrive/ASL_Dataset/Train/V',\n",
              " '/content/drive/MyDrive/ASL_Dataset/Train/Q',\n",
              " '/content/drive/MyDrive/ASL_Dataset/Train/J',\n",
              " '/content/drive/MyDrive/ASL_Dataset/Train/X',\n",
              " '/content/drive/MyDrive/ASL_Dataset/Train/B',\n",
              " '/content/drive/MyDrive/ASL_Dataset/Train/L',\n",
              " '/content/drive/MyDrive/ASL_Dataset/Train/W',\n",
              " '/content/drive/MyDrive/ASL_Dataset/Train/P',\n",
              " '/content/drive/MyDrive/ASL_Dataset/Train/Y']"
            ]
          },
          "metadata": {},
          "execution_count": 13
        }
      ]
    },
    {
      "cell_type": "code",
      "source": [
        "from keras.preprocessing import image\n",
        "from tensorflow.keras.layers import Input, Dense, Flatten\n",
        "from tensorflow.keras.applications.vgg16 import VGG16 as PretrainedModel, \\\n",
        "  preprocess_input\n",
        "from tensorflow.keras.models import Model\n",
        "from tensorflow.keras.optimizers import SGD, Adam\n",
        "from tensorflow.keras.preprocessing import image\n",
        "from tensorflow.keras.preprocessing.image import ImageDataGenerator\n",
        "\n",
        "from glob import glob\n",
        "\n",
        "import numpy as np\n",
        "import pandas as pd\n",
        "import matplotlib.pyplot as plt\n",
        "import sys, os"
      ],
      "metadata": {
        "id": "NlOSe29Cfvbr"
      },
      "execution_count": 14,
      "outputs": []
    },
    {
      "cell_type": "code",
      "source": [
        "plt.imshow(image.load_img(np.random.choice(image_files)))\n",
        "plt.show()"
      ],
      "metadata": {
        "colab": {
          "base_uri": "https://localhost:8080/",
          "height": 269
        },
        "id": "yBTN-Ca1bspa",
        "outputId": "49ee439b-97fc-4511-ddda-bc2ff11b5b98"
      },
      "execution_count": 15,
      "outputs": [
        {
          "output_type": "display_data",
          "data": {
            "text/plain": [
              "<Figure size 432x288 with 1 Axes>"
            ],
            "image/png": "[encoded data removed]"
          },
          "metadata": {
            "needs_background": "light"
          }
        }
      ]
    },
    {
      "cell_type": "code",
      "source": [
        "ptm = PretrainedModel(\n",
        "    input_shape=IMAGE_SIZE + [3],\n",
        "    weights='imagenet',\n",
        "    include_top=False)"
      ],
      "metadata": {
        "colab": {
          "base_uri": "https://localhost:8080/"
        },
        "id": "zG9pSu8VbskY",
        "outputId": "2ab6435f-cf40-42e7-dc16-b799ae47a5cc"
      },
      "execution_count": 16,
      "outputs": [
        {
          "output_type": "stream",
          "name": "stdout",
          "text": [
            "Downloading data from https://storage.googleapis.com/tensorflow/keras-applications/vgg16/vgg16_weights_tf_dim_ordering_tf_kernels_notop.h5\n",
            "58892288/58889256 [==============================] - 1s 0us/step\n",
            "58900480/58889256 [==============================] - 1s 0us/step\n"
          ]
        }
      ]
    },
    {
      "cell_type": "code",
      "source": [
        "ptm.trainable = False"
      ],
      "metadata": {
        "id": "WC-OXtKGbsd8"
      },
      "execution_count": 17,
      "outputs": []
    },
    {
      "cell_type": "code",
      "source": [
        "K = len(folders) # number of classes\n",
        "x = Flatten()(ptm.output)\n",
        "x = Dense(K, activation='softmax')(x)"
      ],
      "metadata": {
        "id": "IRZYbTKEgdMF"
      },
      "execution_count": 18,
      "outputs": []
    },
    {
      "cell_type": "code",
      "source": [
        "model = Model(inputs=ptm.input, outputs=x)"
      ],
      "metadata": {
        "id": "DrwharFygdAw"
      },
      "execution_count": 19,
      "outputs": []
    },
    {
      "cell_type": "code",
      "source": [
        "model.summary()"
      ],
      "metadata": {
        "colab": {
          "base_uri": "https://localhost:8080/"
        },
        "id": "k0Jvy02Sgc1w",
        "outputId": "65b3c482-d560-446a-edc0-e31e3cd3118c"
      },
      "execution_count": 20,
      "outputs": [
        {
          "output_type": "stream",
          "name": "stdout",
          "text": [
            "Model: \"model\"\n",
            "_________________________________________________________________\n",
            " Layer (type)                Output Shape              Param #   \n",
            "=================================================================\n",
            " input_1 (InputLayer)        [(None, 200, 200, 3)]     0         \n",
            "                                                                 \n",
            " block1_conv1 (Conv2D)       (None, 200, 200, 64)      1792      \n",
            "                                                                 \n",
            " block1_conv2 (Conv2D)       (None, 200, 200, 64)      36928     \n",
            "                                                                 \n",
            " block1_pool (MaxPooling2D)  (None, 100, 100, 64)      0         \n",
            "                                                                 \n",
            " block2_conv1 (Conv2D)       (None, 100, 100, 128)     73856     \n",
            "                                                                 \n",
            " block2_conv2 (Conv2D)       (None, 100, 100, 128)     147584    \n",
            "                                                                 \n",
            " block2_pool (MaxPooling2D)  (None, 50, 50, 128)       0         \n",
            "                                                                 \n",
            " block3_conv1 (Conv2D)       (None, 50, 50, 256)       295168    \n",
            "                                                                 \n",
            " block3_conv2 (Conv2D)       (None, 50, 50, 256)       590080    \n",
            "                                                                 \n",
            " block3_conv3 (Conv2D)       (None, 50, 50, 256)       590080    \n",
            "                                                                 \n",
            " block3_pool (MaxPooling2D)  (None, 25, 25, 256)       0         \n",
            "                                                                 \n",
            " block4_conv1 (Conv2D)       (None, 25, 25, 512)       1180160   \n",
            "                                                                 \n",
            " block4_conv2 (Conv2D)       (None, 25, 25, 512)       2359808   \n",
            "                                                                 \n",
            " block4_conv3 (Conv2D)       (None, 25, 25, 512)       2359808   \n",
            "                                                                 \n",
            " block4_pool (MaxPooling2D)  (None, 12, 12, 512)       0         \n",
            "                                                                 \n",
            " block5_conv1 (Conv2D)       (None, 12, 12, 512)       2359808   \n",
            "                                                                 \n",
            " block5_conv2 (Conv2D)       (None, 12, 12, 512)       2359808   \n",
            "                                                                 \n",
            " block5_conv3 (Conv2D)       (None, 12, 12, 512)       2359808   \n",
            "                                                                 \n",
            " block5_pool (MaxPooling2D)  (None, 6, 6, 512)         0         \n",
            "                                                                 \n",
            " flatten (Flatten)           (None, 18432)             0         \n",
            "                                                                 \n",
            " dense (Dense)               (None, 28)                516124    \n",
            "                                                                 \n",
            "=================================================================\n",
            "Total params: 15,230,812\n",
            "Trainable params: 516,124\n",
            "Non-trainable params: 14,714,688\n",
            "_________________________________________________________________\n"
          ]
        }
      ]
    },
    {
      "cell_type": "code",
      "source": [
        "gen_train = ImageDataGenerator(\n",
        "  rotation_range=20,\n",
        "  width_shift_range=0.1,\n",
        "  height_shift_range=0.1,\n",
        "  shear_range=0.1,\n",
        "  zoom_range=0.2,\n",
        "  horizontal_flip=True,\n",
        "  preprocessing_function=preprocess_input,\n",
        "  rescale=1.0/255.0\n",
        ")\n",
        "\n",
        "gen_test = ImageDataGenerator(\n",
        "  preprocessing_function=preprocess_input,\n",
        "  rescale=1.0/255.0\n",
        ")"
      ],
      "metadata": {
        "id": "SYFB4op8gcqd"
      },
      "execution_count": 26,
      "outputs": []
    },
    {
      "cell_type": "code",
      "source": [
        "batch_size = 128\n",
        "\n",
        "# create generators\n",
        "train_generator = gen_train.flow_from_directory(\n",
        "  train_path,\n",
        "  shuffle=True,\n",
        "  target_size=IMAGE_SIZE,\n",
        "  batch_size=batch_size,\n",
        ")\n",
        "\n",
        "valid_generator = gen_test.flow_from_directory(\n",
        "  valid_path,\n",
        "  target_size=IMAGE_SIZE,\n",
        "  batch_size=batch_size,\n",
        ")"
      ],
      "metadata": {
        "colab": {
          "base_uri": "https://localhost:8080/"
        },
        "id": "-tp_C5TBgca-",
        "outputId": "17826675-1918-4501-d351-c696073a6bf4"
      },
      "execution_count": 27,
      "outputs": [
        {
          "output_type": "stream",
          "name": "stdout",
          "text": [
            "Found 165829 images belonging to 28 classes.\n",
            "Found 112 images belonging to 28 classes.\n"
          ]
        }
      ]
    },
    {
      "cell_type": "code",
      "source": [
        "model.compile(\n",
        "  loss='categorical_crossentropy',\n",
        "  optimizer='adam',\n",
        "  metrics=['accuracy']\n",
        ")"
      ],
      "metadata": {
        "id": "CMekWotObsXL"
      },
      "execution_count": 28,
      "outputs": []
    },
    {
      "cell_type": "code",
      "source": [
        "tf.test.is_gpu_available()"
      ],
      "metadata": {
        "colab": {
          "base_uri": "https://localhost:8080/"
        },
        "id": "_kH-89uDjuPY",
        "outputId": "9ecfa9c5-71e1-4259-84e2-617f268f55b8"
      },
      "execution_count": 29,
      "outputs": [
        {
          "output_type": "execute_result",
          "data": {
            "text/plain": [
              "True"
            ]
          },
          "metadata": {},
          "execution_count": 29
        }
      ]
    },
    {
      "cell_type": "code",
      "source": [
        "r = model.fit_generator(\n",
        "  \n",
        "    train_generator,\n",
        "    \n",
        "    validation_data=valid_generator,\n",
        "    epochs=1,\n",
        "    \n",
        "    steps_per_epoch=int(np.ceil(len(image_files) / batch_size)),\n",
        "    validation_steps=int(np.ceil(len(valid_image_files) / batch_size)),\n",
        ")"
      ],
      "metadata": {
        "colab": {
          "base_uri": "https://localhost:8080/"
        },
        "id": "IMDG-BRMg43t",
        "outputId": "565a7496-52c8-41bb-e115-b8bb7203177f"
      },
      "execution_count": null,
      "outputs": [
        {
          "output_type": "stream",
          "name": "stderr",
          "text": [
            "/usr/local/lib/python3.7/dist-packages/ipykernel_launcher.py:9: UserWarning: `Model.fit_generator` is deprecated and will be removed in a future version. Please use `Model.fit`, which supports generators.\n",
            "  if __name__ == '__main__':\n"
          ]
        },
        {
          "output_type": "stream",
          "name": "stdout",
          "text": [
            "  23/1296 [..............................] - ETA: 9:43:22 - loss: 2.0781 - accuracy: 0.4694"
          ]
        }
      ]
    },
    {
      "cell_type": "code",
      "source": [
        ""
      ],
      "metadata": {
        "id": "Ax1rDjjzg4uk"
      },
      "execution_count": null,
      "outputs": []
    },
    {
      "cell_type": "code",
      "source": [
        ""
      ],
      "metadata": {
        "id": "bIPHXLHng4hj"
      },
      "execution_count": null,
      "outputs": []
    },
    {
      "cell_type": "code",
      "source": [
        ""
      ],
      "metadata": {
        "id": "8OiU9Bhfg4YU"
      },
      "execution_count": null,
      "outputs": []
    },
    {
      "cell_type": "code",
      "source": [
        ""
      ],
      "metadata": {
        "id": "p8N942p_g4Nh"
      },
      "execution_count": null,
      "outputs": []
    },
    {
      "cell_type": "code",
      "source": [
        ""
      ],
      "metadata": {
        "id": "tHmu6Rg4YI4s"
      },
      "execution_count": null,
      "outputs": []
    },
    {
      "cell_type": "code",
      "source": [
        ""
      ],
      "metadata": {
        "id": "S_d1NhtXYIs8"
      },
      "execution_count": null,
      "outputs": []
    }
  ]
}